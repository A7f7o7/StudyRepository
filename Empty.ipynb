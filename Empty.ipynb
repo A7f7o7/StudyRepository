{
 "cells": [
  {
   "cell_type": "markdown",
   "id": "7a819348-e56f-4beb-8b28-38878e2e1620",
   "metadata": {},
   "source": [
    "Empty Branch"
   ]
  }
 ],
 "metadata": {
  "kernelspec": {
   "display_name": "Python 3 (ipykernel)",
   "language": "python",
   "name": "python3"
  },
  "language_info": {
   "codemirror_mode": {
    "name": "ipython",
    "version": 3
   },
   "file_extension": ".py",
   "mimetype": "text/x-python",
   "name": "python",
   "nbconvert_exporter": "python",
   "pygments_lexer": "ipython3",
   "version": "3.10.8"
  }
 },
 "nbformat": 4,
 "nbformat_minor": 5
}
